{
 "cells": [
  {
   "cell_type": "markdown",
   "id": "0fdad840-451c-469b-8b5b-7ca22fc049d0",
   "metadata": {},
   "source": [
    "## Data Cleaning and Exploratory Data Analysis/ Customer Data"
   ]
  },
  {
   "cell_type": "code",
   "execution_count": 1,
   "id": "54c94d91-96d6-4862-811c-75e9c182d9d0",
   "metadata": {
    "tags": []
   },
   "outputs": [],
   "source": [
    "import pandas as pd\n",
    "import numpy as np\n",
    "import datetime as dt\n",
    "import plotly.express as px\n",
    "import seaborn as sns"
   ]
  },
  {
   "cell_type": "code",
   "execution_count": 2,
   "id": "a37f36be-577c-4b4b-bf3a-02600a0b0d16",
   "metadata": {},
   "outputs": [
    {
     "name": "stdout",
     "output_type": "stream",
     "text": [
      "(2240, 29)\n"
     ]
    },
    {
     "data": {
      "text/html": [
       "<div>\n",
       "<style scoped>\n",
       "    .dataframe tbody tr th:only-of-type {\n",
       "        vertical-align: middle;\n",
       "    }\n",
       "\n",
       "    .dataframe tbody tr th {\n",
       "        vertical-align: top;\n",
       "    }\n",
       "\n",
       "    .dataframe thead th {\n",
       "        text-align: right;\n",
       "    }\n",
       "</style>\n",
       "<table border=\"1\" class=\"dataframe\">\n",
       "  <thead>\n",
       "    <tr style=\"text-align: right;\">\n",
       "      <th></th>\n",
       "      <th>ID</th>\n",
       "      <th>Year_Birth</th>\n",
       "      <th>Education</th>\n",
       "      <th>Marital_Status</th>\n",
       "      <th>Income</th>\n",
       "      <th>Kidhome</th>\n",
       "      <th>Teenhome</th>\n",
       "      <th>Dt_Customer</th>\n",
       "      <th>Recency</th>\n",
       "      <th>MntWines</th>\n",
       "      <th>...</th>\n",
       "      <th>NumWebVisitsMonth</th>\n",
       "      <th>AcceptedCmp3</th>\n",
       "      <th>AcceptedCmp4</th>\n",
       "      <th>AcceptedCmp5</th>\n",
       "      <th>AcceptedCmp1</th>\n",
       "      <th>AcceptedCmp2</th>\n",
       "      <th>Complain</th>\n",
       "      <th>Z_CostContact</th>\n",
       "      <th>Z_Revenue</th>\n",
       "      <th>Response</th>\n",
       "    </tr>\n",
       "  </thead>\n",
       "  <tbody>\n",
       "    <tr>\n",
       "      <th>0</th>\n",
       "      <td>5524</td>\n",
       "      <td>1957</td>\n",
       "      <td>Graduation</td>\n",
       "      <td>Single</td>\n",
       "      <td>58138.0</td>\n",
       "      <td>0</td>\n",
       "      <td>0</td>\n",
       "      <td>04-09-2012</td>\n",
       "      <td>58</td>\n",
       "      <td>635</td>\n",
       "      <td>...</td>\n",
       "      <td>7</td>\n",
       "      <td>0</td>\n",
       "      <td>0</td>\n",
       "      <td>0</td>\n",
       "      <td>0</td>\n",
       "      <td>0</td>\n",
       "      <td>0</td>\n",
       "      <td>3</td>\n",
       "      <td>11</td>\n",
       "      <td>1</td>\n",
       "    </tr>\n",
       "    <tr>\n",
       "      <th>1</th>\n",
       "      <td>2174</td>\n",
       "      <td>1954</td>\n",
       "      <td>Graduation</td>\n",
       "      <td>Single</td>\n",
       "      <td>46344.0</td>\n",
       "      <td>1</td>\n",
       "      <td>1</td>\n",
       "      <td>08-03-2014</td>\n",
       "      <td>38</td>\n",
       "      <td>11</td>\n",
       "      <td>...</td>\n",
       "      <td>5</td>\n",
       "      <td>0</td>\n",
       "      <td>0</td>\n",
       "      <td>0</td>\n",
       "      <td>0</td>\n",
       "      <td>0</td>\n",
       "      <td>0</td>\n",
       "      <td>3</td>\n",
       "      <td>11</td>\n",
       "      <td>0</td>\n",
       "    </tr>\n",
       "    <tr>\n",
       "      <th>2</th>\n",
       "      <td>4141</td>\n",
       "      <td>1965</td>\n",
       "      <td>Graduation</td>\n",
       "      <td>Together</td>\n",
       "      <td>71613.0</td>\n",
       "      <td>0</td>\n",
       "      <td>0</td>\n",
       "      <td>21-08-2013</td>\n",
       "      <td>26</td>\n",
       "      <td>426</td>\n",
       "      <td>...</td>\n",
       "      <td>4</td>\n",
       "      <td>0</td>\n",
       "      <td>0</td>\n",
       "      <td>0</td>\n",
       "      <td>0</td>\n",
       "      <td>0</td>\n",
       "      <td>0</td>\n",
       "      <td>3</td>\n",
       "      <td>11</td>\n",
       "      <td>0</td>\n",
       "    </tr>\n",
       "    <tr>\n",
       "      <th>3</th>\n",
       "      <td>6182</td>\n",
       "      <td>1984</td>\n",
       "      <td>Graduation</td>\n",
       "      <td>Together</td>\n",
       "      <td>26646.0</td>\n",
       "      <td>1</td>\n",
       "      <td>0</td>\n",
       "      <td>10-02-2014</td>\n",
       "      <td>26</td>\n",
       "      <td>11</td>\n",
       "      <td>...</td>\n",
       "      <td>6</td>\n",
       "      <td>0</td>\n",
       "      <td>0</td>\n",
       "      <td>0</td>\n",
       "      <td>0</td>\n",
       "      <td>0</td>\n",
       "      <td>0</td>\n",
       "      <td>3</td>\n",
       "      <td>11</td>\n",
       "      <td>0</td>\n",
       "    </tr>\n",
       "    <tr>\n",
       "      <th>4</th>\n",
       "      <td>5324</td>\n",
       "      <td>1981</td>\n",
       "      <td>PhD</td>\n",
       "      <td>Married</td>\n",
       "      <td>58293.0</td>\n",
       "      <td>1</td>\n",
       "      <td>0</td>\n",
       "      <td>19-01-2014</td>\n",
       "      <td>94</td>\n",
       "      <td>173</td>\n",
       "      <td>...</td>\n",
       "      <td>5</td>\n",
       "      <td>0</td>\n",
       "      <td>0</td>\n",
       "      <td>0</td>\n",
       "      <td>0</td>\n",
       "      <td>0</td>\n",
       "      <td>0</td>\n",
       "      <td>3</td>\n",
       "      <td>11</td>\n",
       "      <td>0</td>\n",
       "    </tr>\n",
       "  </tbody>\n",
       "</table>\n",
       "<p>5 rows × 29 columns</p>\n",
       "</div>"
      ],
      "text/plain": [
       "     ID  Year_Birth   Education Marital_Status   Income  Kidhome  Teenhome  \\\n",
       "0  5524        1957  Graduation         Single  58138.0        0         0   \n",
       "1  2174        1954  Graduation         Single  46344.0        1         1   \n",
       "2  4141        1965  Graduation       Together  71613.0        0         0   \n",
       "3  6182        1984  Graduation       Together  26646.0        1         0   \n",
       "4  5324        1981         PhD        Married  58293.0        1         0   \n",
       "\n",
       "  Dt_Customer  Recency  MntWines  ...  NumWebVisitsMonth  AcceptedCmp3  \\\n",
       "0  04-09-2012       58       635  ...                  7             0   \n",
       "1  08-03-2014       38        11  ...                  5             0   \n",
       "2  21-08-2013       26       426  ...                  4             0   \n",
       "3  10-02-2014       26        11  ...                  6             0   \n",
       "4  19-01-2014       94       173  ...                  5             0   \n",
       "\n",
       "   AcceptedCmp4  AcceptedCmp5  AcceptedCmp1  AcceptedCmp2  Complain  \\\n",
       "0             0             0             0             0         0   \n",
       "1             0             0             0             0         0   \n",
       "2             0             0             0             0         0   \n",
       "3             0             0             0             0         0   \n",
       "4             0             0             0             0         0   \n",
       "\n",
       "   Z_CostContact  Z_Revenue  Response  \n",
       "0              3         11         1  \n",
       "1              3         11         0  \n",
       "2              3         11         0  \n",
       "3              3         11         0  \n",
       "4              3         11         0  \n",
       "\n",
       "[5 rows x 29 columns]"
      ]
     },
     "execution_count": 2,
     "metadata": {},
     "output_type": "execute_result"
    }
   ],
   "source": [
    "df = pd.read_csv('marketing_campaign.csv', sep = '\\t')\n",
    "print(df.shape)\n",
    "df.head()"
   ]
  },
  {
   "cell_type": "code",
   "execution_count": 3,
   "id": "b2209c29-5093-4bca-b8eb-29664359ea46",
   "metadata": {},
   "outputs": [
    {
     "name": "stdout",
     "output_type": "stream",
     "text": [
      "There are no duplicated data in dataset.\n"
     ]
    }
   ],
   "source": [
    "# Are there any duplicated data?\n",
    "if df['ID'].nunique() == df.shape[0]:\n",
    "    print ('There are no duplicated data in dataset.')\n",
    "else:\n",
    "    print('There are duplicated data in dataset.')"
   ]
  },
  {
   "cell_type": "code",
   "execution_count": 4,
   "id": "72f68cd2-9d57-4753-890f-08163b2f6835",
   "metadata": {},
   "outputs": [],
   "source": [
    "# This dataset was prepared between 07/2012 and  06/2014, so we can't take the actual year(2023) as relevant for counting the age of clients.\n",
    "# we need to get relevant age at the point of survey to analyze the customer's behaviour correctly\n",
    "df = (\n",
    "      df \n",
    "      .assign(Children = lambda df : df['Kidhome'] + df['Teenhome'])\n",
    "      .assign(Dt_Customer = lambda df : pd.to_datetime(df['Dt_Customer'], format = '%d-%m-%Y', errors = 'coerce'))\n",
    "      .assign(Age = lambda df : df['Dt_Customer'].dt.year - df['Year_Birth'])\n",
    ")     "
   ]
  },
  {
   "cell_type": "code",
   "execution_count": 5,
   "id": "f707fcf2-3c36-4ea1-9ac4-b3fd3ba53c8e",
   "metadata": {},
   "outputs": [
    {
     "name": "stdout",
     "output_type": "stream",
     "text": [
      "This dataset contains data about 2240 customers.\n",
      "First enrollment on : 2012-07-30\n",
      "Last enrollment on :  2014-06-29\n",
      "Duration of the data collection to get the dataset: 699 days\n"
     ]
    }
   ],
   "source": [
    "# First and last customer's enrolment\n",
    "first_enrol = df['Dt_Customer'].min()\n",
    "last_enrol  = df['Dt_Customer'].max()\n",
    "duration = (last_enrol - first_enrol).days\n",
    "print(f'This dataset contains data about {len(df)} customers.')\n",
    "print(f'First enrollment on : {first_enrol:%Y-%m-%d}')\n",
    "print(f'Last enrollment on :  {last_enrol:%Y-%m-%d}')\n",
    "print(f'Duration of the data collection to get the dataset: {duration} days')"
   ]
  },
  {
   "cell_type": "code",
   "execution_count": 6,
   "id": "9fd0c6c5-f99a-4137-a800-3fb9833b3786",
   "metadata": {},
   "outputs": [],
   "source": [
    "df['Marital_Status'] = df['Marital_Status'].replace({'Together':'In relationship','Widow':'Single',\n",
    "                                                     'Alone':'Single','Absurd':'Single','YOLO':'Single'})"
   ]
  },
  {
   "cell_type": "code",
   "execution_count": 7,
   "id": "40353e1e-47ab-484f-85fe-a1676a1802db",
   "metadata": {},
   "outputs": [],
   "source": [
    "df['Education'] = df['Education'].replace({'Graduation':'Graduate','PhD': 'Postgraduate',\n",
    "                                           'Master':'Graduate','2n Cycle':'Undergraduate',\n",
    "                                           'Basic':'Undergraduate'})"
   ]
  },
  {
   "cell_type": "code",
   "execution_count": 8,
   "id": "28696021-6d6c-49db-9b50-4a8f9f7e0b8f",
   "metadata": {},
   "outputs": [],
   "source": [
    "df['Total_spending'] = df['MntWines'] + df['MntFruits'] + df['MntMeatProducts'] + df['MntFishProducts'] + df['MntSweetProducts'] + df['MntGoldProds']"
   ]
  },
  {
   "cell_type": "code",
   "execution_count": 9,
   "id": "03547388-2e7d-4499-b352-957dca345660",
   "metadata": {},
   "outputs": [],
   "source": [
    "df.drop(columns = ['Kidhome','Teenhome','AcceptedCmp3', 'AcceptedCmp4', 'AcceptedCmp5', \n",
    "                   'AcceptedCmp1','AcceptedCmp2', 'Complain', 'Z_CostContact', 'Z_Revenue','Response'], inplace = True)"
   ]
  },
  {
   "cell_type": "code",
   "execution_count": 10,
   "id": "6eec1585-3796-452d-8414-173d74f12432",
   "metadata": {},
   "outputs": [],
   "source": [
    "df.rename(columns = {'ID':'Customer_ID','MntWines':'Amount_Wines', 'MntFruits':'Amount_Fruits','MntMeatProducts':'Amount_Meat',\n",
    "                        'MntFishProducts':'Amount_Fish','MntSweetProducts':'Amount_Sweets','MntGoldProds':'Amount_Gold'},inplace = True)"
   ]
  },
  {
   "cell_type": "code",
   "execution_count": 11,
   "id": "b3e49a04-988f-4f96-ac12-0ea9171219f0",
   "metadata": {},
   "outputs": [],
   "source": [
    "df = df.reindex(columns = ['Customer_ID','Year_Birth','Age','Marital_Status','Children','Education','Income','Dt_Customer','Recency',\n",
    "                      'Amount_Wines','Amount_Fruits','Amount_Meat','Amount_Fish','Amount_Sweets','Amount_Gold','Total_spending',\n",
    "                      'NumDealsPurchases','NumCatalogPurchases','NumWebPurchases','NumStorePurchases','NumWebVisitsMonth'])"
   ]
  },
  {
   "cell_type": "code",
   "execution_count": 12,
   "id": "49f39110-0110-43bd-b7b4-976fe8b8f730",
   "metadata": {},
   "outputs": [
    {
     "data": {
      "text/plain": [
       "<AxesSubplot:xlabel='Age'>"
      ]
     },
     "execution_count": 12,
     "metadata": {},
     "output_type": "execute_result"
    },
    {
     "data": {
      "image/png": "[encoded data removed]",
      "text/plain": [
       "<Figure size 640x480 with 1 Axes>"
      ]
     },
     "metadata": {},
     "output_type": "display_data"
    }
   ],
   "source": [
    "# Detection of outliers in 'Age' column\n",
    "sns.boxplot(data = df, x = 'Age')"
   ]
  },
  {
   "cell_type": "code",
   "execution_count": 13,
   "id": "18898bf3-6776-4746-a516-72ede8490eb4",
   "metadata": {},
   "outputs": [
    {
     "name": "stdout",
     "output_type": "stream",
     "text": [
      "(array([192, 239, 339]),)\n"
     ]
    }
   ],
   "source": [
    "print(np.where(df['Age']>100))"
   ]
  },
  {
   "cell_type": "code",
   "execution_count": 14,
   "id": "f56da1f0-1199-4c87-a959-a4029849625b",
   "metadata": {},
   "outputs": [],
   "source": [
    "# putting median age value istead of outlier's values \n",
    "median = df['Age'].median()\n",
    "df['Age'] = np.where(df['Age'] > 100, median, df['Age'])"
   ]
  },
  {
   "cell_type": "code",
   "execution_count": 15,
   "id": "0fafc829-7ea4-4909-b1ee-2ca510445fc8",
   "metadata": {},
   "outputs": [
    {
     "data": {
      "text/plain": [
       "<AxesSubplot:xlabel='Income'>"
      ]
     },
     "execution_count": 15,
     "metadata": {},
     "output_type": "execute_result"
    },
    {
     "data": {
      "image/png": "[encoded data removed]",
      "text/plain": [
       "<Figure size 640x480 with 1 Axes>"
      ]
     },
     "metadata": {},
     "output_type": "display_data"
    }
   ],
   "source": [
    "# Detection of outliers in 'Income' column\n",
    "sns.boxplot(data = df, x = 'Income')"
   ]
  },
  {
   "cell_type": "code",
   "execution_count": 16,
   "id": "94be4550-5665-4924-b145-ed8256ae5eaf",
   "metadata": {},
   "outputs": [],
   "source": [
    "# There are more yearly incomes over 100k and one over 600k\n",
    "# I will treat income over 200k as an outlier\n",
    "# Replacing the outlier with a NaN value           ---> later on, converting the NaN value into median income value\n",
    "df.loc[df['Income'] > 200000, 'Income'] = np.nan"
   ]
  },
  {
   "cell_type": "code",
   "execution_count": 17,
   "id": "cb0592c5-fc9c-44d9-89e4-cf99ebf8e135",
   "metadata": {},
   "outputs": [
    {
     "data": {
      "text/html": [
       "<div>\n",
       "<style scoped>\n",
       "    .dataframe tbody tr th:only-of-type {\n",
       "        vertical-align: middle;\n",
       "    }\n",
       "\n",
       "    .dataframe tbody tr th {\n",
       "        vertical-align: top;\n",
       "    }\n",
       "\n",
       "    .dataframe thead th {\n",
       "        text-align: right;\n",
       "    }\n",
       "</style>\n",
       "<table border=\"1\" class=\"dataframe\">\n",
       "  <thead>\n",
       "    <tr style=\"text-align: right;\">\n",
       "      <th></th>\n",
       "      <th>count_missing_values</th>\n",
       "    </tr>\n",
       "  </thead>\n",
       "  <tbody>\n",
       "    <tr>\n",
       "      <th>Income</th>\n",
       "      <td>25</td>\n",
       "    </tr>\n",
       "  </tbody>\n",
       "</table>\n",
       "</div>"
      ],
      "text/plain": [
       "        count_missing_values\n",
       "Income                    25"
      ]
     },
     "execution_count": 17,
     "metadata": {},
     "output_type": "execute_result"
    }
   ],
   "source": [
    "# All missing values in dataset\n",
    "df_missing_val  = (\n",
    "                  df\n",
    "                  .isnull().sum()\n",
    "                  .to_frame('count_missing_values')\n",
    "                  .query('count_missing_values > 0')\n",
    ")\n",
    "df_missing_val"
   ]
  },
  {
   "cell_type": "code",
   "execution_count": 18,
   "id": "31d997d3-4bc0-436a-871b-0df116b330e1",
   "metadata": {},
   "outputs": [
    {
     "data": {
      "text/html": [
       "<div>\n",
       "<style scoped>\n",
       "    .dataframe tbody tr th:only-of-type {\n",
       "        vertical-align: middle;\n",
       "    }\n",
       "\n",
       "    .dataframe tbody tr th {\n",
       "        vertical-align: top;\n",
       "    }\n",
       "\n",
       "    .dataframe thead th {\n",
       "        text-align: right;\n",
       "    }\n",
       "</style>\n",
       "<table border=\"1\" class=\"dataframe\">\n",
       "  <thead>\n",
       "    <tr style=\"text-align: right;\">\n",
       "      <th></th>\n",
       "      <th>median_income</th>\n",
       "    </tr>\n",
       "    <tr>\n",
       "      <th>Education</th>\n",
       "      <th></th>\n",
       "    </tr>\n",
       "  </thead>\n",
       "  <tbody>\n",
       "    <tr>\n",
       "      <th>Graduate</th>\n",
       "      <td>51533</td>\n",
       "    </tr>\n",
       "    <tr>\n",
       "      <th>Postgraduate</th>\n",
       "      <td>55212</td>\n",
       "    </tr>\n",
       "    <tr>\n",
       "      <th>Undergraduate</th>\n",
       "      <td>36223</td>\n",
       "    </tr>\n",
       "  </tbody>\n",
       "</table>\n",
       "</div>"
      ],
      "text/plain": [
       "               median_income\n",
       "Education                   \n",
       "Graduate               51533\n",
       "Postgraduate           55212\n",
       "Undergraduate          36223"
      ]
     },
     "execution_count": 18,
     "metadata": {},
     "output_type": "execute_result"
    }
   ],
   "source": [
    "# 24 customers were not willing to share their yearly income in that survey + 1 NaN value,an outlier over 600k\n",
    "# I take the median yearly income based on education level to fill the missing values\n",
    "df_income = (\n",
    "             df\n",
    "            .groupby('Education')\n",
    "            .agg(median_income = ('Income','median'))\n",
    "            .astype(int)\n",
    ")\n",
    "df_income"
   ]
  },
  {
   "cell_type": "code",
   "execution_count": 19,
   "id": "15d73d50-bfd1-496f-911a-4f1d6ae91420",
   "metadata": {},
   "outputs": [],
   "source": [
    "df['Income'] = df.groupby('Education')['Income'].transform(lambda x: x.fillna(x.median()))"
   ]
  },
  {
   "cell_type": "markdown",
   "id": "436a5bba-4df6-4228-b77e-bab7d4447f56",
   "metadata": {
    "tags": []
   },
   "source": [
    "## Correlation\n"
   ]
  },
  {
   "cell_type": "code",
   "execution_count": 20,
   "id": "9fefc81b-0ed5-4613-a69f-3f025b232908",
   "metadata": {},
   "outputs": [],
   "source": [
    "corr_df = df.corr()"
   ]
  },
  {
   "cell_type": "code",
   "execution_count": 21,
   "id": "c826db90-43bf-4c86-b547-7598097ae113",
   "metadata": {},
   "outputs": [],
   "source": [
    "# All low correlations are replaced with 0\n",
    "filter_low_correlations = (corr_df > -0.7) & (corr_df < 0.7)\n",
    "corr_df[filter_low_correlations] = 0\n",
    "\n",
    "# All correlations equal to 1 are replaced with 0\n",
    "filter_ideal_correlations = (corr_df == 1.0)\n",
    "corr_df[filter_ideal_correlations] = 0"
   ]
  },
  {
   "cell_type": "code",
   "execution_count": 22,
   "id": "262c48f2-45c4-4750-a5fd-e79086d5e9ca",
   "metadata": {},
   "outputs": [
    {
     "data": {
      "text/plain": [
       "<AxesSubplot:>"
      ]
     },
     "execution_count": 22,
     "metadata": {},
     "output_type": "execute_result"
    },
    {
     "data": {
      "image/png": "[encoded data removed]",
      "text/plain": [
       "<Figure size 640x480 with 2 Axes>"
      ]
     },
     "metadata": {},
     "output_type": "display_data"
    }
   ],
   "source": [
    "fig = sns.heatmap(corr_df)\n",
    "fig"
   ]
  }
 ],
 "metadata": {
  "kernelspec": {
   "display_name": "Python 3 (ipykernel)",
   "language": "python",
   "name": "python3"
  },
  "language_info": {
   "codemirror_mode": {
    "name": "ipython",
    "version": 3
   },
   "file_extension": ".py",
   "mimetype": "text/x-python",
   "name": "python",
   "nbconvert_exporter": "python",
   "pygments_lexer": "ipython3",
   "version": "3.9.13"
  }
 },
 "nbformat": 4,
 "nbformat_minor": 5
}
